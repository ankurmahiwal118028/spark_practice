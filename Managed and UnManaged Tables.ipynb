{
 "cells": [
  {
   "cell_type": "code",
   "execution_count": 1,
   "id": "0621e988",
   "metadata": {},
   "outputs": [],
   "source": [
    "from pyspark.sql import SparkSession"
   ]
  },
  {
   "cell_type": "code",
   "execution_count": null,
   "id": "346b8497",
   "metadata": {},
   "outputs": [],
   "source": [
    "\"\"\" \n",
    "    Spark by default uses the Apache Hive metastore, \n",
    "    located at /user/hive/warehouse, to persist all the metadata about your tables. \n",
    "\n",
    "    Spark allows you to create two types of tables: managed and unmanaged. \n",
    "   \n",
    "   For a manaaged table, Spark manages both the metadata and the data in the file store.\n",
    "   This could be a local filesystem, HDFS, or an object store such as Amazon S3 or Azure Blob. \n",
    "   \n",
    "   For unmanaged table an unmanaged table, Spark only manages the metadata,\n",
    "   while you manage the data yourself(i.e. - we specify the location \n",
    "   where data will be stored) in an external data source such as Cassandra.\n",
    "\n",
    "   With a managed table, because Spark manages everything, \n",
    "   a SQL command such as DROP TABLE table_name deletes both \n",
    "   the metadata and the data. With an unmanaged table, the same \n",
    "   command will delete only the metadata, not the actual data. \n",
    "   We will look at some examples of how to create managed and\n",
    "   unmanaged tables in the next section \n",
    "\n",
    "\"\"\""
   ]
  },
  {
   "cell_type": "code",
   "execution_count": 3,
   "id": "0d904e9d",
   "metadata": {},
   "outputs": [
    {
     "data": {
      "text/plain": [
       "DataFrame[]"
      ]
     },
     "execution_count": 3,
     "metadata": {},
     "output_type": "execute_result"
    }
   ],
   "source": [
    "\"\"\"\n",
    "   Tables reside within a database. \n",
    "   By default, Spark creates tables under the default database.\n",
    "   To create your own database name, you can issue a SQL command\n",
    "   from your Spark application or notebook. Using the US flight \n",
    "   delays data set, let’s create both a managed and an unmanaged table.\n",
    "   To begin, we’ll create a database called learn_spark_db and tell\n",
    "   Spark we want to use that database.\n",
    "\"\"\"\n",
    "\n",
    "# Create a spark session \n",
    "# Spark session is the entry point to access spark APIs\n",
    "spark = SparkSession.builder.getOrCreate()\n",
    "spark.sql(\"CREATE DATABASE learn_spark_db\")\n",
    "spark.sql(\"USE learn_spark_db\")"
   ]
  },
  {
   "cell_type": "code",
   "execution_count": 15,
   "id": "82c35136",
   "metadata": {},
   "outputs": [
    {
     "name": "stderr",
     "output_type": "stream",
     "text": [
      "21/11/26 23:12:22 WARN MemoryManager: Total allocation exceeds 95.00% (906,992,014 bytes) of heap memory\n",
      "Scaling row group sizes to 96.54% for 7 writers\n",
      "21/11/26 23:12:22 WARN MemoryManager: Total allocation exceeds 95.00% (906,992,014 bytes) of heap memory\n",
      "Scaling row group sizes to 84.47% for 8 writers\n",
      "21/11/26 23:12:26 WARN MemoryManager: Total allocation exceeds 95.00% (906,992,014 bytes) of heap memory\n",
      "Scaling row group sizes to 96.54% for 7 writers\n",
      "                                                                                \r"
     ]
    }
   ],
   "source": [
    "\"\"\"To create a managed table within the database learn_spark_db,\n",
    "we can issue a SQL query like the following:\"\"\"\n",
    "\n",
    "\n",
    "\"\"\"\n",
    "# SQL syntax\n",
    "spark.sql(\"Create TABLE managed_us_delay_flights_tbl \\\n",
    "          (date STRING, delay INT, distance INT, origin STRING, destination STRING)\")\n",
    "\"\"\"\n",
    "\n",
    "# Dataframe API syntax\n",
    "csv_file = \"airlinedelaycauses_DelayedFlights.csv\"\n",
    "schema=\"date STRING, delay INT, distance INT, origin STRING, destination STRING\"\n",
    "flights_df = spark.read.csv(csv_file,schema=schema)\n",
    "flights_df.write.saveAsTable(\"managed_us_delay_flights_tbl1\")\n"
   ]
  },
  {
   "cell_type": "code",
   "execution_count": 5,
   "id": "8f9062b6",
   "metadata": {},
   "outputs": [
    {
     "name": "stderr",
     "output_type": "stream",
     "text": [
      "21/11/26 20:01:46 WARN MemoryManager: Total allocation exceeds 95.00% (906,992,014 bytes) of heap memory\n",
      "Scaling row group sizes to 96.54% for 7 writers\n",
      "21/11/26 20:01:46 WARN MemoryManager: Total allocation exceeds 95.00% (906,992,014 bytes) of heap memory\n",
      "Scaling row group sizes to 84.47% for 8 writers\n",
      "21/11/26 20:01:51 WARN MemoryManager: Total allocation exceeds 95.00% (906,992,014 bytes) of heap memory\n",
      "Scaling row group sizes to 96.54% for 7 writers\n",
      "                                                                                \r"
     ]
    }
   ],
   "source": []
  },
  {
   "cell_type": "code",
   "execution_count": 6,
   "id": "d606687f",
   "metadata": {},
   "outputs": [
    {
     "data": {
      "text/plain": [
       "DataFrame[date: string, delay: int, distance: int, origin: string, destination: string]"
      ]
     },
     "execution_count": 6,
     "metadata": {},
     "output_type": "execute_result"
    }
   ],
   "source": [
    "spark.sql(\"Select * from managed_us_delay_flights_tbl\")"
   ]
  },
  {
   "cell_type": "code",
   "execution_count": null,
   "id": "5750ae74",
   "metadata": {},
   "outputs": [],
   "source": [
    "\"\"\" Create an unmanaged tables \"\"\"\n",
    "\n",
    "spark.sql(\"\"\"CREATE TABLE us_delay_flights_tbl(date STRING, delay INT,\n",
    "      distance INT, origin STRING, destination STRING)\n",
    "      USING csv OPTIONS (PATH\n",
    "      '/databricks-datasets/learning-spark-v2/flights/departuredelays.csv')\"\"\")\n",
    "\n",
    "#And within the DataFrame API use:\n",
    "flights_df\n",
    "      .write\n",
    "      .option(\"path\", \"/tmp/data/us_flights_delay\")\n",
    "      .saveAsTable(\"us_delay_flights_tbl\"))"
   ]
  }
 ],
 "metadata": {
  "kernelspec": {
   "display_name": "Python 3 (ipykernel)",
   "language": "python",
   "name": "python3"
  },
  "language_info": {
   "codemirror_mode": {
    "name": "ipython",
    "version": 3
   },
   "file_extension": ".py",
   "mimetype": "text/x-python",
   "name": "python",
   "nbconvert_exporter": "python",
   "pygments_lexer": "ipython3",
   "version": "3.8.2"
  }
 },
 "nbformat": 4,
 "nbformat_minor": 5
}
