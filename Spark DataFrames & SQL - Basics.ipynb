{
 "cells": [
  {
   "cell_type": "code",
   "execution_count": 40,
   "id": "053e4574",
   "metadata": {},
   "outputs": [],
   "source": [
    "from pyspark.sql import SparkSession\n",
    "\n",
    "\"\"\"\n",
    "The SparkSession, introduced in Spark 2.0,\n",
    "provides a unified entry point for programming Spark with the Structured APIs.\n",
    "You can use a SparkSession to access Spark functionality:\n",
    "just import the class and create an instance in your code. \"\"\"\n",
    "\n",
    "spark = SparkSession.builder.getOrCreate()\n",
    "\n",
    "\n",
    "# Read and create a temporary view\n",
    "# Infer schema (note that for larger files you # may want to specify the schema)\n",
    "df = spark.read\\\n",
    "  .format('csv')\\\n",
    "  .option('header', 'true')\\\n",
    "  .load('airlinedelaycauses_DelayedFlights.csv')"
   ]
  },
  {
   "cell_type": "code",
   "execution_count": 4,
   "id": "73af81fc",
   "metadata": {},
   "outputs": [
    {
     "name": "stderr",
     "output_type": "stream",
     "text": [
      "21/11/25 21:34:09 WARN NativeCodeLoader: Unable to load native-hadoop library for your platform... using builtin-java classes where applicable\n",
      "Using Spark's default log4j profile: org/apache/spark/log4j-defaults.properties\n",
      "Setting default log level to \"WARN\".\n",
      "To adjust logging level use sc.setLogLevel(newLevel). For SparkR, use setLogLevel(newLevel).\n"
     ]
    }
   ],
   "source": []
  },
  {
   "cell_type": "code",
   "execution_count": 46,
   "id": "5e1f0696",
   "metadata": {},
   "outputs": [],
   "source": [
    "x = df.createOrReplaceTempView(\"us_delay_flights_tbl\")"
   ]
  },
  {
   "cell_type": "code",
   "execution_count": 45,
   "id": "9174d4cc",
   "metadata": {},
   "outputs": [
    {
     "name": "stdout",
     "output_type": "stream",
     "text": [
      "root\n",
      " |-- _c0: string (nullable = true)\n",
      " |-- Year: string (nullable = true)\n",
      " |-- Month: string (nullable = true)\n",
      " |-- DayofMonth: string (nullable = true)\n",
      " |-- DayOfWeek: string (nullable = true)\n",
      " |-- DepTime: string (nullable = true)\n",
      " |-- CRSDepTime: string (nullable = true)\n",
      " |-- ArrTime: string (nullable = true)\n",
      " |-- CRSArrTime: string (nullable = true)\n",
      " |-- UniqueCarrier: string (nullable = true)\n",
      " |-- FlightNum: string (nullable = true)\n",
      " |-- TailNum: string (nullable = true)\n",
      " |-- ActualElapsedTime: string (nullable = true)\n",
      " |-- CRSElapsedTime: string (nullable = true)\n",
      " |-- AirTime: string (nullable = true)\n",
      " |-- ArrDelay: string (nullable = true)\n",
      " |-- DepDelay: string (nullable = true)\n",
      " |-- Origin: string (nullable = true)\n",
      " |-- Dest: string (nullable = true)\n",
      " |-- Distance: string (nullable = true)\n",
      " |-- TaxiIn: string (nullable = true)\n",
      " |-- TaxiOut: string (nullable = true)\n",
      " |-- Cancelled: string (nullable = true)\n",
      " |-- CancellationCode: string (nullable = true)\n",
      " |-- Diverted: string (nullable = true)\n",
      " |-- CarrierDelay: string (nullable = true)\n",
      " |-- WeatherDelay: string (nullable = true)\n",
      " |-- NASDelay: string (nullable = true)\n",
      " |-- SecurityDelay: string (nullable = true)\n",
      " |-- LateAircraftDelay: string (nullable = true)\n",
      "\n"
     ]
    }
   ],
   "source": [
    "# Get the details of schema \n",
    "df.printSchema()"
   ]
  },
  {
   "cell_type": "code",
   "execution_count": 50,
   "id": "6bfc7919",
   "metadata": {},
   "outputs": [
    {
     "ename": "TypeError",
     "evalue": "'NoneType' object is not subscriptable",
     "output_type": "error",
     "traceback": [
      "\u001b[0;31m---------------------------------------------------------------------------\u001b[0m",
      "\u001b[0;31mTypeError\u001b[0m                                 Traceback (most recent call last)",
      "\u001b[0;32m/var/folders/hl/j7h1nmzn00jf0d1lrcfdxdf40000gn/T/ipykernel_10268/3629782281.py\u001b[0m in \u001b[0;36m<module>\u001b[0;34m\u001b[0m\n\u001b[0;32m----> 1\u001b[0;31m \u001b[0mx\u001b[0m\u001b[0;34m[\u001b[0m\u001b[0;36m0\u001b[0m\u001b[0;34m]\u001b[0m\u001b[0;34m\u001b[0m\u001b[0;34m\u001b[0m\u001b[0m\n\u001b[0m",
      "\u001b[0;31mTypeError\u001b[0m: 'NoneType' object is not subscriptable"
     ]
    }
   ],
   "source": [
    "x[0]"
   ]
  },
  {
   "cell_type": "code",
   "execution_count": 53,
   "id": "e101d154",
   "metadata": {},
   "outputs": [
    {
     "name": "stderr",
     "output_type": "stream",
     "text": [
      "21/11/26 10:27:23 WARN CSVHeaderChecker: CSV header does not conform to the schema.\n",
      " Header: , Year, Month, DayofMonth, DayOfWeek, DepTime, CRSDepTime, ArrTime, CRSArrTime, UniqueCarrier, FlightNum, TailNum, ActualElapsedTime, CRSElapsedTime, AirTime, ArrDelay, DepDelay, Origin, Dest, Distance, TaxiIn, TaxiOut, Cancelled, CancellationCode, Diverted, CarrierDelay, WeatherDelay, NASDelay, SecurityDelay, LateAircraftDelay\n",
      " Schema: _c0, Year, Month, DayofMonth, DayOfWeek, DepTime, CRSDepTime, ArrTime, CRSArrTime, UniqueCarrier, FlightNum, TailNum, ActualElapsedTime, CRSElapsedTime, AirTime, ArrDelay, DepDelay, Origin, Dest, Distance, TaxiIn, TaxiOut, Cancelled, CancellationCode, Diverted, CarrierDelay, WeatherDelay, NASDelay, SecurityDelay, LateAircraftDelay\n",
      "Expected: _c0 but found: \n",
      "CSV file: file:///Users/ankurmahiwal/Documents/GitHub/spark_practice/airlinedelaycauses_DelayedFlights.csv\n"
     ]
    },
    {
     "data": {
      "text/plain": [
       "[Row(_c0='0', Year='2008', Month='1', DayofMonth='3', DayOfWeek='4', DepTime='2003.0', CRSDepTime='1955', ArrTime='2211.0', CRSArrTime='2225', UniqueCarrier='WN', FlightNum='335', TailNum='N712SW', ActualElapsedTime='128.0', CRSElapsedTime='150.0', AirTime='116.0', ArrDelay='-14.0', DepDelay='8.0', Origin='IAD', Dest='TPA', Distance='810', TaxiIn='4.0', TaxiOut='8.0', Cancelled='0', CancellationCode='N', Diverted='0', CarrierDelay=None, WeatherDelay=None, NASDelay=None, SecurityDelay=None, LateAircraftDelay=None),\n",
       " Row(_c0='1', Year='2008', Month='1', DayofMonth='3', DayOfWeek='4', DepTime='754.0', CRSDepTime='735', ArrTime='1002.0', CRSArrTime='1000', UniqueCarrier='WN', FlightNum='3231', TailNum='N772SW', ActualElapsedTime='128.0', CRSElapsedTime='145.0', AirTime='113.0', ArrDelay='2.0', DepDelay='19.0', Origin='IAD', Dest='TPA', Distance='810', TaxiIn='5.0', TaxiOut='10.0', Cancelled='0', CancellationCode='N', Diverted='0', CarrierDelay=None, WeatherDelay=None, NASDelay=None, SecurityDelay=None, LateAircraftDelay=None),\n",
       " Row(_c0='2', Year='2008', Month='1', DayofMonth='3', DayOfWeek='4', DepTime='628.0', CRSDepTime='620', ArrTime='804.0', CRSArrTime='750', UniqueCarrier='WN', FlightNum='448', TailNum='N428WN', ActualElapsedTime='96.0', CRSElapsedTime='90.0', AirTime='76.0', ArrDelay='14.0', DepDelay='8.0', Origin='IND', Dest='BWI', Distance='515', TaxiIn='3.0', TaxiOut='17.0', Cancelled='0', CancellationCode='N', Diverted='0', CarrierDelay=None, WeatherDelay=None, NASDelay=None, SecurityDelay=None, LateAircraftDelay=None),\n",
       " Row(_c0='4', Year='2008', Month='1', DayofMonth='3', DayOfWeek='4', DepTime='1829.0', CRSDepTime='1755', ArrTime='1959.0', CRSArrTime='1925', UniqueCarrier='WN', FlightNum='3920', TailNum='N464WN', ActualElapsedTime='90.0', CRSElapsedTime='90.0', AirTime='77.0', ArrDelay='34.0', DepDelay='34.0', Origin='IND', Dest='BWI', Distance='515', TaxiIn='3.0', TaxiOut='10.0', Cancelled='0', CancellationCode='N', Diverted='0', CarrierDelay='2.0', WeatherDelay='0.0', NASDelay='0.0', SecurityDelay='0.0', LateAircraftDelay='32.0'),\n",
       " Row(_c0='5', Year='2008', Month='1', DayofMonth='3', DayOfWeek='4', DepTime='1940.0', CRSDepTime='1915', ArrTime='2121.0', CRSArrTime='2110', UniqueCarrier='WN', FlightNum='378', TailNum='N726SW', ActualElapsedTime='101.0', CRSElapsedTime='115.0', AirTime='87.0', ArrDelay='11.0', DepDelay='25.0', Origin='IND', Dest='JAX', Distance='688', TaxiIn='4.0', TaxiOut='10.0', Cancelled='0', CancellationCode='N', Diverted='0', CarrierDelay=None, WeatherDelay=None, NASDelay=None, SecurityDelay=None, LateAircraftDelay=None)]"
      ]
     },
     "execution_count": 53,
     "metadata": {},
     "output_type": "execute_result"
    }
   ],
   "source": [
    "df.head(5)"
   ]
  },
  {
   "cell_type": "code",
   "execution_count": 12,
   "id": "f6041d69",
   "metadata": {},
   "outputs": [
    {
     "data": {
      "text/plain": [
       "[Row(date='2015-12-12', time='13:42:10', size=257886, r_version='3.2.2', r_arch='i386', r_os='mingw32', package='HistData', version='0.7-6', country='CZ', ip_id=1)]"
      ]
     },
     "execution_count": 12,
     "metadata": {},
     "output_type": "execute_result"
    }
   ],
   "source": []
  },
  {
   "cell_type": "code",
   "execution_count": 90,
   "id": "8c587125",
   "metadata": {},
   "outputs": [
    {
     "name": "stderr",
     "output_type": "stream",
     "text": [
      "\r",
      "[Stage 23:>                                                         (0 + 8) / 8]\r"
     ]
    },
    {
     "name": "stdout",
     "output_type": "stream",
     "text": [
      "+--------+------+----+\n",
      "|Distance|Origin|Dest|\n",
      "+--------+------+----+\n",
      "|    4962|   EWR| HNL|\n",
      "|    4962|   EWR| HNL|\n",
      "|    4962|   HNL| EWR|\n",
      "|    4962|   EWR| HNL|\n",
      "|    4962|   EWR| HNL|\n",
      "|    4962|   EWR| HNL|\n",
      "|    4962|   EWR| HNL|\n",
      "|    4962|   EWR| HNL|\n",
      "|    4962|   EWR| HNL|\n",
      "|    4962|   EWR| HNL|\n",
      "|    4962|   EWR| HNL|\n",
      "|    4962|   EWR| HNL|\n",
      "|    4962|   HNL| EWR|\n",
      "|    4962|   EWR| HNL|\n",
      "|    4962|   HNL| EWR|\n",
      "|    4962|   EWR| HNL|\n",
      "|    4962|   EWR| HNL|\n",
      "|    4962|   HNL| EWR|\n",
      "|    4962|   EWR| HNL|\n",
      "|    4962|   EWR| HNL|\n",
      "+--------+------+----+\n",
      "only showing top 20 rows\n",
      "\n"
     ]
    },
    {
     "name": "stderr",
     "output_type": "stream",
     "text": [
      "\r",
      "                                                                                \r"
     ]
    }
   ],
   "source": [
    "# We’ll find all flights whose distance is greater than 1,000 miles:\n",
    "\n",
    "spark.sql(\"\"\"SELECT Distance,Origin,Dest\n",
    "             FROM us_delay_flights_tbl where distance > 1000\n",
    "             ORDER BY Distance desc\"\"\").show(20)"
   ]
  },
  {
   "cell_type": "code",
   "execution_count": 95,
   "id": "6d1e9a25",
   "metadata": {},
   "outputs": [
    {
     "name": "stdout",
     "output_type": "stream",
     "text": [
      "+--------+------+----+\n",
      "|Distance|Origin|Dest|\n",
      "+--------+------+----+\n",
      "|    4962|   EWR| HNL|\n",
      "|    4962|   HNL| EWR|\n",
      "|    4962|   HNL| EWR|\n",
      "|    4962|   EWR| HNL|\n",
      "|    4962|   EWR| HNL|\n",
      "|    4962|   EWR| HNL|\n",
      "|    4962|   EWR| HNL|\n",
      "|    4962|   EWR| HNL|\n",
      "|    4962|   EWR| HNL|\n",
      "|    4962|   EWR| HNL|\n",
      "+--------+------+----+\n",
      "only showing top 10 rows\n",
      "\n"
     ]
    },
    {
     "name": "stderr",
     "output_type": "stream",
     "text": [
      "\r",
      "[Stage 26:>                                                         (0 + 8) / 8]\r",
      "\r",
      "                                                                                \r"
     ]
    }
   ],
   "source": [
    "# DATAFRAME API Code\n",
    "\n",
    "df.select(\"Distance\", \"Origin\", \"Dest\"). \\\n",
    "   where(df[\"Distance\"] > 1000). \\\n",
    "   orderBy('Distance',ascending=False).show(10)\n",
    "#.orderBy(df[\"Distance\"].desc).show(10)"
   ]
  },
  {
   "cell_type": "code",
   "execution_count": null,
   "id": "6812464b",
   "metadata": {},
   "outputs": [],
   "source": []
  },
  {
   "cell_type": "code",
   "execution_count": 60,
   "id": "622131a3",
   "metadata": {},
   "outputs": [
    {
     "name": "stderr",
     "output_type": "stream",
     "text": [
      "\r",
      "[Stage 16:>                                                         (0 + 8) / 8]\r"
     ]
    },
    {
     "name": "stdout",
     "output_type": "stream",
     "text": [
      "+----+-----+--------+------+----+\n",
      "|Year|Month|ArrDelay|Origin|Dest|\n",
      "+----+-----+--------+------+----+\n",
      "|2008|    9|   519.0|   SFO| ORD|\n",
      "|2008|   10|   419.0|   SFO| ORD|\n",
      "|2008|    7|   415.0|   SFO| ORD|\n",
      "|2008|    1|   388.0|   SFO| ORD|\n",
      "|2008|    1|   380.0|   SFO| ORD|\n",
      "|2008|    9|   380.0|   SFO| ORD|\n",
      "|2008|    1|   352.0|   SFO| ORD|\n",
      "|2008|    2|   346.0|   SFO| ORD|\n",
      "|2008|    7|   328.0|   SFO| ORD|\n",
      "|2008|    2|   325.0|   SFO| ORD|\n",
      "+----+-----+--------+------+----+\n",
      "only showing top 10 rows\n",
      "\n"
     ]
    },
    {
     "name": "stderr",
     "output_type": "stream",
     "text": [
      "\r",
      "                                                                                \r"
     ]
    }
   ],
   "source": [
    "# Find all flights between San Francisco (SFO) and Chicago (ORD) with at least a two-hour of arrival delay:\n",
    "\n",
    "spark.sql(\"\"\"select Year,Month,ArrDelay,Origin,Dest \n",
    "             FROM us_delay_flights_tbl\n",
    "             WHERE ArrDelay > 120 AND Origin = 'SFO' AND Dest = 'ORD'\n",
    "            ORDER by ArrDelay Desc\"\"\").show(10)"
   ]
  },
  {
   "cell_type": "code",
   "execution_count": 116,
   "id": "b96ef280",
   "metadata": {},
   "outputs": [
    {
     "name": "stderr",
     "output_type": "stream",
     "text": [
      "\r",
      "[Stage 32:>                                                         (0 + 8) / 8]\r",
      "\r",
      "[Stage 32:=======>                                                  (1 + 7) / 8]\r"
     ]
    },
    {
     "name": "stdout",
     "output_type": "stream",
     "text": [
      "+----+-----+--------+------+----+\n",
      "|Year|Month|ArrDelay|Origin|Dest|\n",
      "+----+-----+--------+------+----+\n",
      "|2008|    9|   519.0|   SFO| ORD|\n",
      "|2008|   10|   419.0|   SFO| ORD|\n",
      "|2008|    7|   415.0|   SFO| ORD|\n",
      "|2008|    1|   388.0|   SFO| ORD|\n",
      "|2008|    9|   380.0|   SFO| ORD|\n",
      "|2008|    1|   380.0|   SFO| ORD|\n",
      "|2008|    1|   352.0|   SFO| ORD|\n",
      "|2008|    2|   346.0|   SFO| ORD|\n",
      "|2008|    7|   328.0|   SFO| ORD|\n",
      "|2008|    2|   325.0|   SFO| ORD|\n",
      "+----+-----+--------+------+----+\n",
      "only showing top 10 rows\n",
      "\n"
     ]
    },
    {
     "name": "stderr",
     "output_type": "stream",
     "text": [
      "21/11/26 17:41:23 WARN HeartbeatReceiver: Removing executor driver with no recent heartbeats: 974549 ms exceeds timeout 120000 ms\n",
      "21/11/26 17:41:23 WARN SparkContext: Killing executors is not supported by current scheduler.\n"
     ]
    }
   ],
   "source": [
    "# Results of above query using pyspark syntax\n",
    "df.select(\"Year\",\"Month\",\"ArrDelay\",\"Origin\",\"Dest\"). \\\n",
    "   where((df[\"ArrDelay\"] > 120) & (df[\"Origin\"] == \"SFO\") & (df[\"Dest\"] == \"ORD\")). \\\n",
    "   orderBy(\"ArrDelay\",ascending=False). \\\n",
    "   show(10)"
   ]
  },
  {
   "cell_type": "code",
   "execution_count": 108,
   "id": "3d194237",
   "metadata": {},
   "outputs": [
    {
     "data": {
      "text/plain": [
       "<bound method DataFrame.printSchema of DataFrame[_c0: string, Year: string, Month: string, DayofMonth: string, DayOfWeek: string, DepTime: string, CRSDepTime: string, ArrTime: string, CRSArrTime: string, UniqueCarrier: string, FlightNum: string, TailNum: string, ActualElapsedTime: string, CRSElapsedTime: string, AirTime: string, ArrDelay: string, DepDelay: string, Origin: string, Dest: string, Distance: string, TaxiIn: string, TaxiOut: string, Cancelled: string, CancellationCode: string, Diverted: string, CarrierDelay: string, WeatherDelay: string, NASDelay: string, SecurityDelay: string, LateAircraftDelay: string]>"
      ]
     },
     "execution_count": 108,
     "metadata": {},
     "output_type": "execute_result"
    }
   ],
   "source": [
    "df.printSchema"
   ]
  },
  {
   "cell_type": "code",
   "execution_count": 100,
   "id": "64cecf0c",
   "metadata": {},
   "outputs": [
    {
     "data": {
      "text/plain": [
       "Column<'ArrDelay'>"
      ]
     },
     "execution_count": 100,
     "metadata": {},
     "output_type": "execute_result"
    }
   ],
   "source": [
    "\n",
    "df['ArrDelay']."
   ]
  },
  {
   "cell_type": "code",
   "execution_count": 38,
   "id": "a3f68e06",
   "metadata": {},
   "outputs": [
    {
     "data": {
      "text/plain": [
       "Column<'(age IS NULL)'>"
      ]
     },
     "execution_count": 38,
     "metadata": {},
     "output_type": "execute_result"
    }
   ],
   "source": [
    "df['age'].isNull().c"
   ]
  },
  {
   "cell_type": "code",
   "execution_count": 64,
   "id": "7dcab23e",
   "metadata": {},
   "outputs": [
    {
     "name": "stderr",
     "output_type": "stream",
     "text": [
      "\r",
      "[Stage 17:>                                                         (0 + 8) / 8]\r"
     ]
    },
    {
     "name": "stdout",
     "output_type": "stream",
     "text": [
      "+--------+------+----+-------------+\n",
      "|ArrDelay|Origin|Dest|Flight_Delays|\n",
      "+--------+------+----+-------------+\n",
      "|    99.0|   ABE| ATL| Short Delays|\n",
      "|    99.0|   ABE| ORD| Short Delays|\n",
      "|    98.0|   ABE| ORD| Short Delays|\n",
      "|    98.0|   ABE| ORD| Short Delays|\n",
      "|    98.0|   ABE| ORD| Short Delays|\n",
      "|    98.0|   ABE| ATL| Short Delays|\n",
      "|    98.0|   ABE| ORD| Short Delays|\n",
      "|    96.0|   ABE| ORD| Short Delays|\n",
      "|    96.0|   ABE| ATL| Short Delays|\n",
      "|    95.0|   ABE| ATL| Short Delays|\n",
      "+--------+------+----+-------------+\n",
      "only showing top 10 rows\n",
      "\n"
     ]
    },
    {
     "name": "stderr",
     "output_type": "stream",
     "text": [
      "\r",
      "[Stage 17:==========================================================(8 + 0) / 8]\r",
      "\r",
      "                                                                                \r"
     ]
    }
   ],
   "source": [
    "\"\"\"Label all US flights, \n",
    "   regardless of origin and destination,\n",
    "   with an indication of the delays they experienced: \n",
    "   Very Long Delays (> 6 hours), Long Delays (2–6 hours), etc \"\"\"\n",
    "\n",
    "\n",
    "spark.sql(\"\"\"SELECT ArrDelay, Origin, Dest,\n",
    "              CASE\n",
    "                  WHEN ArrDelay > 360 THEN 'Very Long Delays'\n",
    "                  WHEN ArrDelay > 120 AND ArrDelay < 360 THEN 'Long Delays'\n",
    "                  WHEN ArrDelay > 60 AND ArrDelay < 120 THEN 'Short Delays'\n",
    "                  WHEN ArrDelay > 0 and ArrDelay < 60  THEN  'Tolerable Delays'\n",
    "                  WHEN ArrDelay = 0 THEN 'No Delays'\n",
    "                  ELSE 'Early'\n",
    "               END AS Flight_Delays\n",
    "               FROM us_delay_flights_tbl\n",
    "               ORDER BY Origin, Arrdelay DESC\"\"\").show(10)"
   ]
  },
  {
   "cell_type": "code",
   "execution_count": null,
   "id": "ffacc3a0",
   "metadata": {},
   "outputs": [],
   "source": []
  }
 ],
 "metadata": {
  "kernelspec": {
   "display_name": "Python 3 (ipykernel)",
   "language": "python",
   "name": "python3"
  },
  "language_info": {
   "codemirror_mode": {
    "name": "ipython",
    "version": 3
   },
   "file_extension": ".py",
   "mimetype": "text/x-python",
   "name": "python",
   "nbconvert_exporter": "python",
   "pygments_lexer": "ipython3",
   "version": "3.8.2"
  }
 },
 "nbformat": 4,
 "nbformat_minor": 5
}
